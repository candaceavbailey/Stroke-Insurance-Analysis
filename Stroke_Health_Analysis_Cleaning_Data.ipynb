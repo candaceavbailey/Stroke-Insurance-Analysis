{
  "nbformat": 4,
  "nbformat_minor": 0,
  "metadata": {
    "colab": {
      "name": "Stroke Health Analysis - Cleaning Data",
      "provenance": [],
      "authorship_tag": "ABX9TyOeIXV3pPuAkDjH+sFw6+Uy",
      "include_colab_link": true
    },
    "kernelspec": {
      "name": "python3",
      "display_name": "Python 3"
    },
    "language_info": {
      "name": "python"
    }
  },
  "cells": [
    {
      "cell_type": "markdown",
      "metadata": {
        "id": "view-in-github",
        "colab_type": "text"
      },
      "source": [
        "<a href=\"https://colab.research.google.com/github/cbaileyanalyst/Stroke-Insurance-Analysis/blob/main/Stroke_Health_Analysis_Cleaning_Data.ipynb\" target=\"_parent\"><img src=\"https://colab.research.google.com/assets/colab-badge.svg\" alt=\"Open In Colab\"/></a>"
      ]
    },
    {
      "cell_type": "code",
      "metadata": {
        "id": "TP86S-7eLziw"
      },
      "source": [
        "# Stroke/ Insurance Analysis\n",
        "## Importing libraries and data sets\n",
        "## Cleaning data"
      ],
      "execution_count": 4,
      "outputs": []
    },
    {
      "cell_type": "code",
      "metadata": {
        "id": "3hdCypkXMY_P"
      },
      "source": [
        "#Importing libraries\n",
        "import pandas as pd\n",
        "import numpy as np\n",
        "import os"
      ],
      "execution_count": 5,
      "outputs": []
    },
    {
      "cell_type": "code",
      "metadata": {
        "id": "nJ-f7OeMNFQM"
      },
      "source": [
        "#Importing stroke dataset\n",
        "df_stroke = pd.read_csv('healthcare-dataset-stroke-data.csv')"
      ],
      "execution_count": 11,
      "outputs": []
    },
    {
      "cell_type": "code",
      "metadata": {
        "id": "f5uaIwfbNTkU"
      },
      "source": [
        "#Importing health insurance dataset\n",
        "df_insurance = pd.read_csv('/content/states-health-insurance.csv')"
      ],
      "execution_count": 12,
      "outputs": []
    },
    {
      "cell_type": "code",
      "metadata": {
        "colab": {
          "base_uri": "https://localhost:8080/",
          "height": 258
        },
        "id": "yX0RmlGeNtGK",
        "outputId": "7608ce66-7d36-4ea7-81bd-6c305cf583ad"
      },
      "source": [
        "df_stroke.head()"
      ],
      "execution_count": 13,
      "outputs": [
        {
          "output_type": "execute_result",
          "data": {
            "text/html": [
              "<div>\n",
              "<style scoped>\n",
              "    .dataframe tbody tr th:only-of-type {\n",
              "        vertical-align: middle;\n",
              "    }\n",
              "\n",
              "    .dataframe tbody tr th {\n",
              "        vertical-align: top;\n",
              "    }\n",
              "\n",
              "    .dataframe thead th {\n",
              "        text-align: right;\n",
              "    }\n",
              "</style>\n",
              "<table border=\"1\" class=\"dataframe\">\n",
              "  <thead>\n",
              "    <tr style=\"text-align: right;\">\n",
              "      <th></th>\n",
              "      <th>id</th>\n",
              "      <th>gender</th>\n",
              "      <th>age</th>\n",
              "      <th>hypertension</th>\n",
              "      <th>heart_disease</th>\n",
              "      <th>ever_married</th>\n",
              "      <th>work_type</th>\n",
              "      <th>Residence_type</th>\n",
              "      <th>avg_glucose_level</th>\n",
              "      <th>bmi</th>\n",
              "      <th>smoking_status</th>\n",
              "      <th>stroke</th>\n",
              "    </tr>\n",
              "  </thead>\n",
              "  <tbody>\n",
              "    <tr>\n",
              "      <th>0</th>\n",
              "      <td>9046</td>\n",
              "      <td>Male</td>\n",
              "      <td>67.0</td>\n",
              "      <td>0</td>\n",
              "      <td>1</td>\n",
              "      <td>Yes</td>\n",
              "      <td>Private</td>\n",
              "      <td>Urban</td>\n",
              "      <td>228.69</td>\n",
              "      <td>36.6</td>\n",
              "      <td>formerly smoked</td>\n",
              "      <td>1</td>\n",
              "    </tr>\n",
              "    <tr>\n",
              "      <th>1</th>\n",
              "      <td>51676</td>\n",
              "      <td>Female</td>\n",
              "      <td>61.0</td>\n",
              "      <td>0</td>\n",
              "      <td>0</td>\n",
              "      <td>Yes</td>\n",
              "      <td>Self-employed</td>\n",
              "      <td>Rural</td>\n",
              "      <td>202.21</td>\n",
              "      <td>NaN</td>\n",
              "      <td>never smoked</td>\n",
              "      <td>1</td>\n",
              "    </tr>\n",
              "    <tr>\n",
              "      <th>2</th>\n",
              "      <td>31112</td>\n",
              "      <td>Male</td>\n",
              "      <td>80.0</td>\n",
              "      <td>0</td>\n",
              "      <td>1</td>\n",
              "      <td>Yes</td>\n",
              "      <td>Private</td>\n",
              "      <td>Rural</td>\n",
              "      <td>105.92</td>\n",
              "      <td>32.5</td>\n",
              "      <td>never smoked</td>\n",
              "      <td>1</td>\n",
              "    </tr>\n",
              "    <tr>\n",
              "      <th>3</th>\n",
              "      <td>60182</td>\n",
              "      <td>Female</td>\n",
              "      <td>49.0</td>\n",
              "      <td>0</td>\n",
              "      <td>0</td>\n",
              "      <td>Yes</td>\n",
              "      <td>Private</td>\n",
              "      <td>Urban</td>\n",
              "      <td>171.23</td>\n",
              "      <td>34.4</td>\n",
              "      <td>smokes</td>\n",
              "      <td>1</td>\n",
              "    </tr>\n",
              "    <tr>\n",
              "      <th>4</th>\n",
              "      <td>1665</td>\n",
              "      <td>Female</td>\n",
              "      <td>79.0</td>\n",
              "      <td>1</td>\n",
              "      <td>0</td>\n",
              "      <td>Yes</td>\n",
              "      <td>Self-employed</td>\n",
              "      <td>Rural</td>\n",
              "      <td>174.12</td>\n",
              "      <td>24.0</td>\n",
              "      <td>never smoked</td>\n",
              "      <td>1</td>\n",
              "    </tr>\n",
              "  </tbody>\n",
              "</table>\n",
              "</div>"
            ],
            "text/plain": [
              "      id  gender   age  ...   bmi   smoking_status stroke\n",
              "0   9046    Male  67.0  ...  36.6  formerly smoked      1\n",
              "1  51676  Female  61.0  ...   NaN     never smoked      1\n",
              "2  31112    Male  80.0  ...  32.5     never smoked      1\n",
              "3  60182  Female  49.0  ...  34.4           smokes      1\n",
              "4   1665  Female  79.0  ...  24.0     never smoked      1\n",
              "\n",
              "[5 rows x 12 columns]"
            ]
          },
          "metadata": {
            "tags": []
          },
          "execution_count": 13
        }
      ]
    },
    {
      "cell_type": "code",
      "metadata": {
        "colab": {
          "base_uri": "https://localhost:8080/"
        },
        "id": "pO1DADQPNu-t",
        "outputId": "d37a585c-5917-4691-cfc2-f02f51510f76"
      },
      "source": [
        "df_stroke.shape"
      ],
      "execution_count": 14,
      "outputs": [
        {
          "output_type": "execute_result",
          "data": {
            "text/plain": [
              "(5110, 12)"
            ]
          },
          "metadata": {
            "tags": []
          },
          "execution_count": 14
        }
      ]
    },
    {
      "cell_type": "code",
      "metadata": {
        "colab": {
          "base_uri": "https://localhost:8080/",
          "height": 297
        },
        "id": "vmTDsmSaQpun",
        "outputId": "971c199a-aac8-4cb8-fa5e-d4619c4e724b"
      },
      "source": [
        "df_stroke.describe()"
      ],
      "execution_count": 17,
      "outputs": [
        {
          "output_type": "execute_result",
          "data": {
            "text/html": [
              "<div>\n",
              "<style scoped>\n",
              "    .dataframe tbody tr th:only-of-type {\n",
              "        vertical-align: middle;\n",
              "    }\n",
              "\n",
              "    .dataframe tbody tr th {\n",
              "        vertical-align: top;\n",
              "    }\n",
              "\n",
              "    .dataframe thead th {\n",
              "        text-align: right;\n",
              "    }\n",
              "</style>\n",
              "<table border=\"1\" class=\"dataframe\">\n",
              "  <thead>\n",
              "    <tr style=\"text-align: right;\">\n",
              "      <th></th>\n",
              "      <th>id</th>\n",
              "      <th>age</th>\n",
              "      <th>hypertension</th>\n",
              "      <th>heart_disease</th>\n",
              "      <th>avg_glucose_level</th>\n",
              "      <th>bmi</th>\n",
              "      <th>stroke</th>\n",
              "    </tr>\n",
              "  </thead>\n",
              "  <tbody>\n",
              "    <tr>\n",
              "      <th>count</th>\n",
              "      <td>5110.000000</td>\n",
              "      <td>5110.000000</td>\n",
              "      <td>5110.000000</td>\n",
              "      <td>5110.000000</td>\n",
              "      <td>5110.000000</td>\n",
              "      <td>4909.000000</td>\n",
              "      <td>5110.000000</td>\n",
              "    </tr>\n",
              "    <tr>\n",
              "      <th>mean</th>\n",
              "      <td>36517.829354</td>\n",
              "      <td>43.226614</td>\n",
              "      <td>0.097456</td>\n",
              "      <td>0.054012</td>\n",
              "      <td>106.147677</td>\n",
              "      <td>28.893237</td>\n",
              "      <td>0.048728</td>\n",
              "    </tr>\n",
              "    <tr>\n",
              "      <th>std</th>\n",
              "      <td>21161.721625</td>\n",
              "      <td>22.612647</td>\n",
              "      <td>0.296607</td>\n",
              "      <td>0.226063</td>\n",
              "      <td>45.283560</td>\n",
              "      <td>7.854067</td>\n",
              "      <td>0.215320</td>\n",
              "    </tr>\n",
              "    <tr>\n",
              "      <th>min</th>\n",
              "      <td>67.000000</td>\n",
              "      <td>0.080000</td>\n",
              "      <td>0.000000</td>\n",
              "      <td>0.000000</td>\n",
              "      <td>55.120000</td>\n",
              "      <td>10.300000</td>\n",
              "      <td>0.000000</td>\n",
              "    </tr>\n",
              "    <tr>\n",
              "      <th>25%</th>\n",
              "      <td>17741.250000</td>\n",
              "      <td>25.000000</td>\n",
              "      <td>0.000000</td>\n",
              "      <td>0.000000</td>\n",
              "      <td>77.245000</td>\n",
              "      <td>23.500000</td>\n",
              "      <td>0.000000</td>\n",
              "    </tr>\n",
              "    <tr>\n",
              "      <th>50%</th>\n",
              "      <td>36932.000000</td>\n",
              "      <td>45.000000</td>\n",
              "      <td>0.000000</td>\n",
              "      <td>0.000000</td>\n",
              "      <td>91.885000</td>\n",
              "      <td>28.100000</td>\n",
              "      <td>0.000000</td>\n",
              "    </tr>\n",
              "    <tr>\n",
              "      <th>75%</th>\n",
              "      <td>54682.000000</td>\n",
              "      <td>61.000000</td>\n",
              "      <td>0.000000</td>\n",
              "      <td>0.000000</td>\n",
              "      <td>114.090000</td>\n",
              "      <td>33.100000</td>\n",
              "      <td>0.000000</td>\n",
              "    </tr>\n",
              "    <tr>\n",
              "      <th>max</th>\n",
              "      <td>72940.000000</td>\n",
              "      <td>82.000000</td>\n",
              "      <td>1.000000</td>\n",
              "      <td>1.000000</td>\n",
              "      <td>271.740000</td>\n",
              "      <td>97.600000</td>\n",
              "      <td>1.000000</td>\n",
              "    </tr>\n",
              "  </tbody>\n",
              "</table>\n",
              "</div>"
            ],
            "text/plain": [
              "                 id          age  ...          bmi       stroke\n",
              "count   5110.000000  5110.000000  ...  4909.000000  5110.000000\n",
              "mean   36517.829354    43.226614  ...    28.893237     0.048728\n",
              "std    21161.721625    22.612647  ...     7.854067     0.215320\n",
              "min       67.000000     0.080000  ...    10.300000     0.000000\n",
              "25%    17741.250000    25.000000  ...    23.500000     0.000000\n",
              "50%    36932.000000    45.000000  ...    28.100000     0.000000\n",
              "75%    54682.000000    61.000000  ...    33.100000     0.000000\n",
              "max    72940.000000    82.000000  ...    97.600000     1.000000\n",
              "\n",
              "[8 rows x 7 columns]"
            ]
          },
          "metadata": {
            "tags": []
          },
          "execution_count": 17
        }
      ]
    },
    {
      "cell_type": "code",
      "metadata": {
        "colab": {
          "base_uri": "https://localhost:8080/"
        },
        "id": "_n2vxwHhNwbU",
        "outputId": "b14402ac-bdae-4f02-f2ad-48bd8e3795dc"
      },
      "source": [
        "df_stroke.info()"
      ],
      "execution_count": 15,
      "outputs": [
        {
          "output_type": "stream",
          "text": [
            "<class 'pandas.core.frame.DataFrame'>\n",
            "RangeIndex: 5110 entries, 0 to 5109\n",
            "Data columns (total 12 columns):\n",
            " #   Column             Non-Null Count  Dtype  \n",
            "---  ------             --------------  -----  \n",
            " 0   id                 5110 non-null   int64  \n",
            " 1   gender             5110 non-null   object \n",
            " 2   age                5110 non-null   float64\n",
            " 3   hypertension       5110 non-null   int64  \n",
            " 4   heart_disease      5110 non-null   int64  \n",
            " 5   ever_married       5110 non-null   object \n",
            " 6   work_type          5110 non-null   object \n",
            " 7   Residence_type     5110 non-null   object \n",
            " 8   avg_glucose_level  5110 non-null   float64\n",
            " 9   bmi                4909 non-null   float64\n",
            " 10  smoking_status     5110 non-null   object \n",
            " 11  stroke             5110 non-null   int64  \n",
            "dtypes: float64(3), int64(4), object(5)\n",
            "memory usage: 479.2+ KB\n"
          ],
          "name": "stdout"
        }
      ]
    },
    {
      "cell_type": "code",
      "metadata": {
        "colab": {
          "base_uri": "https://localhost:8080/"
        },
        "id": "arGhjnO5N2Vz",
        "outputId": "eb34a3c7-a88b-4cd2-84b5-849b4738989e"
      },
      "source": [
        "df_stroke.isnull().sum()"
      ],
      "execution_count": 16,
      "outputs": [
        {
          "output_type": "execute_result",
          "data": {
            "text/plain": [
              "id                     0\n",
              "gender                 0\n",
              "age                    0\n",
              "hypertension           0\n",
              "heart_disease          0\n",
              "ever_married           0\n",
              "work_type              0\n",
              "Residence_type         0\n",
              "avg_glucose_level      0\n",
              "bmi                  201\n",
              "smoking_status         0\n",
              "stroke                 0\n",
              "dtype: int64"
            ]
          },
          "metadata": {
            "tags": []
          },
          "execution_count": 16
        }
      ]
    },
    {
      "cell_type": "markdown",
      "metadata": {
        "id": "tVwq5VCJOdvQ"
      },
      "source": [
        "201 null values in the BMI column wouldn't skew the dataset too much if they were removed."
      ]
    },
    {
      "cell_type": "code",
      "metadata": {
        "id": "vgWCyjBdOQ5R"
      },
      "source": [
        "#Dropping the id columns because it's not relevant to my analysis\n",
        "df_stroke2 = df_stroke.drop(columns= ['id'])"
      ],
      "execution_count": 19,
      "outputs": []
    },
    {
      "cell_type": "code",
      "metadata": {
        "colab": {
          "base_uri": "https://localhost:8080/",
          "height": 419
        },
        "id": "7KQAZRwhRL8L",
        "outputId": "1f75cfff-08b9-4c88-dcb1-345636bca645"
      },
      "source": [
        "df_stroke2"
      ],
      "execution_count": 20,
      "outputs": [
        {
          "output_type": "execute_result",
          "data": {
            "text/html": [
              "<div>\n",
              "<style scoped>\n",
              "    .dataframe tbody tr th:only-of-type {\n",
              "        vertical-align: middle;\n",
              "    }\n",
              "\n",
              "    .dataframe tbody tr th {\n",
              "        vertical-align: top;\n",
              "    }\n",
              "\n",
              "    .dataframe thead th {\n",
              "        text-align: right;\n",
              "    }\n",
              "</style>\n",
              "<table border=\"1\" class=\"dataframe\">\n",
              "  <thead>\n",
              "    <tr style=\"text-align: right;\">\n",
              "      <th></th>\n",
              "      <th>gender</th>\n",
              "      <th>age</th>\n",
              "      <th>hypertension</th>\n",
              "      <th>heart_disease</th>\n",
              "      <th>ever_married</th>\n",
              "      <th>work_type</th>\n",
              "      <th>Residence_type</th>\n",
              "      <th>avg_glucose_level</th>\n",
              "      <th>bmi</th>\n",
              "      <th>smoking_status</th>\n",
              "      <th>stroke</th>\n",
              "    </tr>\n",
              "  </thead>\n",
              "  <tbody>\n",
              "    <tr>\n",
              "      <th>0</th>\n",
              "      <td>Male</td>\n",
              "      <td>67.0</td>\n",
              "      <td>0</td>\n",
              "      <td>1</td>\n",
              "      <td>Yes</td>\n",
              "      <td>Private</td>\n",
              "      <td>Urban</td>\n",
              "      <td>228.69</td>\n",
              "      <td>36.6</td>\n",
              "      <td>formerly smoked</td>\n",
              "      <td>1</td>\n",
              "    </tr>\n",
              "    <tr>\n",
              "      <th>1</th>\n",
              "      <td>Female</td>\n",
              "      <td>61.0</td>\n",
              "      <td>0</td>\n",
              "      <td>0</td>\n",
              "      <td>Yes</td>\n",
              "      <td>Self-employed</td>\n",
              "      <td>Rural</td>\n",
              "      <td>202.21</td>\n",
              "      <td>NaN</td>\n",
              "      <td>never smoked</td>\n",
              "      <td>1</td>\n",
              "    </tr>\n",
              "    <tr>\n",
              "      <th>2</th>\n",
              "      <td>Male</td>\n",
              "      <td>80.0</td>\n",
              "      <td>0</td>\n",
              "      <td>1</td>\n",
              "      <td>Yes</td>\n",
              "      <td>Private</td>\n",
              "      <td>Rural</td>\n",
              "      <td>105.92</td>\n",
              "      <td>32.5</td>\n",
              "      <td>never smoked</td>\n",
              "      <td>1</td>\n",
              "    </tr>\n",
              "    <tr>\n",
              "      <th>3</th>\n",
              "      <td>Female</td>\n",
              "      <td>49.0</td>\n",
              "      <td>0</td>\n",
              "      <td>0</td>\n",
              "      <td>Yes</td>\n",
              "      <td>Private</td>\n",
              "      <td>Urban</td>\n",
              "      <td>171.23</td>\n",
              "      <td>34.4</td>\n",
              "      <td>smokes</td>\n",
              "      <td>1</td>\n",
              "    </tr>\n",
              "    <tr>\n",
              "      <th>4</th>\n",
              "      <td>Female</td>\n",
              "      <td>79.0</td>\n",
              "      <td>1</td>\n",
              "      <td>0</td>\n",
              "      <td>Yes</td>\n",
              "      <td>Self-employed</td>\n",
              "      <td>Rural</td>\n",
              "      <td>174.12</td>\n",
              "      <td>24.0</td>\n",
              "      <td>never smoked</td>\n",
              "      <td>1</td>\n",
              "    </tr>\n",
              "    <tr>\n",
              "      <th>...</th>\n",
              "      <td>...</td>\n",
              "      <td>...</td>\n",
              "      <td>...</td>\n",
              "      <td>...</td>\n",
              "      <td>...</td>\n",
              "      <td>...</td>\n",
              "      <td>...</td>\n",
              "      <td>...</td>\n",
              "      <td>...</td>\n",
              "      <td>...</td>\n",
              "      <td>...</td>\n",
              "    </tr>\n",
              "    <tr>\n",
              "      <th>5105</th>\n",
              "      <td>Female</td>\n",
              "      <td>80.0</td>\n",
              "      <td>1</td>\n",
              "      <td>0</td>\n",
              "      <td>Yes</td>\n",
              "      <td>Private</td>\n",
              "      <td>Urban</td>\n",
              "      <td>83.75</td>\n",
              "      <td>NaN</td>\n",
              "      <td>never smoked</td>\n",
              "      <td>0</td>\n",
              "    </tr>\n",
              "    <tr>\n",
              "      <th>5106</th>\n",
              "      <td>Female</td>\n",
              "      <td>81.0</td>\n",
              "      <td>0</td>\n",
              "      <td>0</td>\n",
              "      <td>Yes</td>\n",
              "      <td>Self-employed</td>\n",
              "      <td>Urban</td>\n",
              "      <td>125.20</td>\n",
              "      <td>40.0</td>\n",
              "      <td>never smoked</td>\n",
              "      <td>0</td>\n",
              "    </tr>\n",
              "    <tr>\n",
              "      <th>5107</th>\n",
              "      <td>Female</td>\n",
              "      <td>35.0</td>\n",
              "      <td>0</td>\n",
              "      <td>0</td>\n",
              "      <td>Yes</td>\n",
              "      <td>Self-employed</td>\n",
              "      <td>Rural</td>\n",
              "      <td>82.99</td>\n",
              "      <td>30.6</td>\n",
              "      <td>never smoked</td>\n",
              "      <td>0</td>\n",
              "    </tr>\n",
              "    <tr>\n",
              "      <th>5108</th>\n",
              "      <td>Male</td>\n",
              "      <td>51.0</td>\n",
              "      <td>0</td>\n",
              "      <td>0</td>\n",
              "      <td>Yes</td>\n",
              "      <td>Private</td>\n",
              "      <td>Rural</td>\n",
              "      <td>166.29</td>\n",
              "      <td>25.6</td>\n",
              "      <td>formerly smoked</td>\n",
              "      <td>0</td>\n",
              "    </tr>\n",
              "    <tr>\n",
              "      <th>5109</th>\n",
              "      <td>Female</td>\n",
              "      <td>44.0</td>\n",
              "      <td>0</td>\n",
              "      <td>0</td>\n",
              "      <td>Yes</td>\n",
              "      <td>Govt_job</td>\n",
              "      <td>Urban</td>\n",
              "      <td>85.28</td>\n",
              "      <td>26.2</td>\n",
              "      <td>Unknown</td>\n",
              "      <td>0</td>\n",
              "    </tr>\n",
              "  </tbody>\n",
              "</table>\n",
              "<p>5110 rows × 11 columns</p>\n",
              "</div>"
            ],
            "text/plain": [
              "      gender   age  hypertension  ...   bmi   smoking_status stroke\n",
              "0       Male  67.0             0  ...  36.6  formerly smoked      1\n",
              "1     Female  61.0             0  ...   NaN     never smoked      1\n",
              "2       Male  80.0             0  ...  32.5     never smoked      1\n",
              "3     Female  49.0             0  ...  34.4           smokes      1\n",
              "4     Female  79.0             1  ...  24.0     never smoked      1\n",
              "...      ...   ...           ...  ...   ...              ...    ...\n",
              "5105  Female  80.0             1  ...   NaN     never smoked      0\n",
              "5106  Female  81.0             0  ...  40.0     never smoked      0\n",
              "5107  Female  35.0             0  ...  30.6     never smoked      0\n",
              "5108    Male  51.0             0  ...  25.6  formerly smoked      0\n",
              "5109  Female  44.0             0  ...  26.2          Unknown      0\n",
              "\n",
              "[5110 rows x 11 columns]"
            ]
          },
          "metadata": {
            "tags": []
          },
          "execution_count": 20
        }
      ]
    },
    {
      "cell_type": "code",
      "metadata": {
        "id": "aSKQLebSRNMK"
      },
      "source": [
        "#Creating a subset with bmi missing values\n",
        "stroke_nan = df_stroke2[df_stroke2['bmi'].isnull()==True]"
      ],
      "execution_count": 21,
      "outputs": []
    },
    {
      "cell_type": "code",
      "metadata": {
        "colab": {
          "base_uri": "https://localhost:8080/",
          "height": 419
        },
        "id": "OFDgc8uMRplG",
        "outputId": "e733d3e6-5346-42f6-e646-ee782d9b2e8c"
      },
      "source": [
        "stroke_nan"
      ],
      "execution_count": 22,
      "outputs": [
        {
          "output_type": "execute_result",
          "data": {
            "text/html": [
              "<div>\n",
              "<style scoped>\n",
              "    .dataframe tbody tr th:only-of-type {\n",
              "        vertical-align: middle;\n",
              "    }\n",
              "\n",
              "    .dataframe tbody tr th {\n",
              "        vertical-align: top;\n",
              "    }\n",
              "\n",
              "    .dataframe thead th {\n",
              "        text-align: right;\n",
              "    }\n",
              "</style>\n",
              "<table border=\"1\" class=\"dataframe\">\n",
              "  <thead>\n",
              "    <tr style=\"text-align: right;\">\n",
              "      <th></th>\n",
              "      <th>gender</th>\n",
              "      <th>age</th>\n",
              "      <th>hypertension</th>\n",
              "      <th>heart_disease</th>\n",
              "      <th>ever_married</th>\n",
              "      <th>work_type</th>\n",
              "      <th>Residence_type</th>\n",
              "      <th>avg_glucose_level</th>\n",
              "      <th>bmi</th>\n",
              "      <th>smoking_status</th>\n",
              "      <th>stroke</th>\n",
              "    </tr>\n",
              "  </thead>\n",
              "  <tbody>\n",
              "    <tr>\n",
              "      <th>1</th>\n",
              "      <td>Female</td>\n",
              "      <td>61.0</td>\n",
              "      <td>0</td>\n",
              "      <td>0</td>\n",
              "      <td>Yes</td>\n",
              "      <td>Self-employed</td>\n",
              "      <td>Rural</td>\n",
              "      <td>202.21</td>\n",
              "      <td>NaN</td>\n",
              "      <td>never smoked</td>\n",
              "      <td>1</td>\n",
              "    </tr>\n",
              "    <tr>\n",
              "      <th>8</th>\n",
              "      <td>Female</td>\n",
              "      <td>59.0</td>\n",
              "      <td>0</td>\n",
              "      <td>0</td>\n",
              "      <td>Yes</td>\n",
              "      <td>Private</td>\n",
              "      <td>Rural</td>\n",
              "      <td>76.15</td>\n",
              "      <td>NaN</td>\n",
              "      <td>Unknown</td>\n",
              "      <td>1</td>\n",
              "    </tr>\n",
              "    <tr>\n",
              "      <th>13</th>\n",
              "      <td>Male</td>\n",
              "      <td>78.0</td>\n",
              "      <td>0</td>\n",
              "      <td>1</td>\n",
              "      <td>Yes</td>\n",
              "      <td>Private</td>\n",
              "      <td>Urban</td>\n",
              "      <td>219.84</td>\n",
              "      <td>NaN</td>\n",
              "      <td>Unknown</td>\n",
              "      <td>1</td>\n",
              "    </tr>\n",
              "    <tr>\n",
              "      <th>19</th>\n",
              "      <td>Male</td>\n",
              "      <td>57.0</td>\n",
              "      <td>0</td>\n",
              "      <td>1</td>\n",
              "      <td>No</td>\n",
              "      <td>Govt_job</td>\n",
              "      <td>Urban</td>\n",
              "      <td>217.08</td>\n",
              "      <td>NaN</td>\n",
              "      <td>Unknown</td>\n",
              "      <td>1</td>\n",
              "    </tr>\n",
              "    <tr>\n",
              "      <th>27</th>\n",
              "      <td>Male</td>\n",
              "      <td>58.0</td>\n",
              "      <td>0</td>\n",
              "      <td>0</td>\n",
              "      <td>Yes</td>\n",
              "      <td>Private</td>\n",
              "      <td>Rural</td>\n",
              "      <td>189.84</td>\n",
              "      <td>NaN</td>\n",
              "      <td>Unknown</td>\n",
              "      <td>1</td>\n",
              "    </tr>\n",
              "    <tr>\n",
              "      <th>...</th>\n",
              "      <td>...</td>\n",
              "      <td>...</td>\n",
              "      <td>...</td>\n",
              "      <td>...</td>\n",
              "      <td>...</td>\n",
              "      <td>...</td>\n",
              "      <td>...</td>\n",
              "      <td>...</td>\n",
              "      <td>...</td>\n",
              "      <td>...</td>\n",
              "      <td>...</td>\n",
              "    </tr>\n",
              "    <tr>\n",
              "      <th>5039</th>\n",
              "      <td>Male</td>\n",
              "      <td>41.0</td>\n",
              "      <td>0</td>\n",
              "      <td>0</td>\n",
              "      <td>No</td>\n",
              "      <td>Private</td>\n",
              "      <td>Rural</td>\n",
              "      <td>70.15</td>\n",
              "      <td>NaN</td>\n",
              "      <td>formerly smoked</td>\n",
              "      <td>0</td>\n",
              "    </tr>\n",
              "    <tr>\n",
              "      <th>5048</th>\n",
              "      <td>Male</td>\n",
              "      <td>40.0</td>\n",
              "      <td>0</td>\n",
              "      <td>0</td>\n",
              "      <td>Yes</td>\n",
              "      <td>Private</td>\n",
              "      <td>Urban</td>\n",
              "      <td>191.15</td>\n",
              "      <td>NaN</td>\n",
              "      <td>smokes</td>\n",
              "      <td>0</td>\n",
              "    </tr>\n",
              "    <tr>\n",
              "      <th>5093</th>\n",
              "      <td>Female</td>\n",
              "      <td>45.0</td>\n",
              "      <td>1</td>\n",
              "      <td>0</td>\n",
              "      <td>Yes</td>\n",
              "      <td>Govt_job</td>\n",
              "      <td>Rural</td>\n",
              "      <td>95.02</td>\n",
              "      <td>NaN</td>\n",
              "      <td>smokes</td>\n",
              "      <td>0</td>\n",
              "    </tr>\n",
              "    <tr>\n",
              "      <th>5099</th>\n",
              "      <td>Male</td>\n",
              "      <td>40.0</td>\n",
              "      <td>0</td>\n",
              "      <td>0</td>\n",
              "      <td>Yes</td>\n",
              "      <td>Private</td>\n",
              "      <td>Rural</td>\n",
              "      <td>83.94</td>\n",
              "      <td>NaN</td>\n",
              "      <td>smokes</td>\n",
              "      <td>0</td>\n",
              "    </tr>\n",
              "    <tr>\n",
              "      <th>5105</th>\n",
              "      <td>Female</td>\n",
              "      <td>80.0</td>\n",
              "      <td>1</td>\n",
              "      <td>0</td>\n",
              "      <td>Yes</td>\n",
              "      <td>Private</td>\n",
              "      <td>Urban</td>\n",
              "      <td>83.75</td>\n",
              "      <td>NaN</td>\n",
              "      <td>never smoked</td>\n",
              "      <td>0</td>\n",
              "    </tr>\n",
              "  </tbody>\n",
              "</table>\n",
              "<p>201 rows × 11 columns</p>\n",
              "</div>"
            ],
            "text/plain": [
              "      gender   age  hypertension  ...  bmi   smoking_status stroke\n",
              "1     Female  61.0             0  ...  NaN     never smoked      1\n",
              "8     Female  59.0             0  ...  NaN          Unknown      1\n",
              "13      Male  78.0             0  ...  NaN          Unknown      1\n",
              "19      Male  57.0             0  ...  NaN          Unknown      1\n",
              "27      Male  58.0             0  ...  NaN          Unknown      1\n",
              "...      ...   ...           ...  ...  ...              ...    ...\n",
              "5039    Male  41.0             0  ...  NaN  formerly smoked      0\n",
              "5048    Male  40.0             0  ...  NaN           smokes      0\n",
              "5093  Female  45.0             1  ...  NaN           smokes      0\n",
              "5099    Male  40.0             0  ...  NaN           smokes      0\n",
              "5105  Female  80.0             1  ...  NaN     never smoked      0\n",
              "\n",
              "[201 rows x 11 columns]"
            ]
          },
          "metadata": {
            "tags": []
          },
          "execution_count": 22
        }
      ]
    },
    {
      "cell_type": "code",
      "metadata": {
        "id": "5U04Vh3CRrHO"
      },
      "source": [
        "#Subset excluding missing values\n",
        "df_stroke_clean = df_stroke2[df_stroke2['bmi'].isnull()==False]"
      ],
      "execution_count": 56,
      "outputs": []
    },
    {
      "cell_type": "code",
      "metadata": {
        "id": "VcGqFCBKR7S7"
      },
      "source": [
        "#Checking for duplicate data\n",
        "df_stroke_dups = df_stroke_clean[df_stroke_clean.duplicated()]"
      ],
      "execution_count": 57,
      "outputs": []
    },
    {
      "cell_type": "code",
      "metadata": {
        "colab": {
          "base_uri": "https://localhost:8080/"
        },
        "id": "bXoHIFrqSEWv",
        "outputId": "19540db0-3a40-4b13-a234-fe9bca11e467"
      },
      "source": [
        "df_stroke_dups.shape"
      ],
      "execution_count": 58,
      "outputs": [
        {
          "output_type": "execute_result",
          "data": {
            "text/plain": [
              "(0, 11)"
            ]
          },
          "metadata": {
            "tags": []
          },
          "execution_count": 58
        }
      ]
    },
    {
      "cell_type": "code",
      "metadata": {
        "colab": {
          "base_uri": "https://localhost:8080/",
          "height": 49
        },
        "id": "9jgGt-rDSG_s",
        "outputId": "2137c3e1-1bd0-47d0-ce5b-3e6029455e79"
      },
      "source": [
        "df_stroke_dups"
      ],
      "execution_count": 59,
      "outputs": [
        {
          "output_type": "execute_result",
          "data": {
            "text/html": [
              "<div>\n",
              "<style scoped>\n",
              "    .dataframe tbody tr th:only-of-type {\n",
              "        vertical-align: middle;\n",
              "    }\n",
              "\n",
              "    .dataframe tbody tr th {\n",
              "        vertical-align: top;\n",
              "    }\n",
              "\n",
              "    .dataframe thead th {\n",
              "        text-align: right;\n",
              "    }\n",
              "</style>\n",
              "<table border=\"1\" class=\"dataframe\">\n",
              "  <thead>\n",
              "    <tr style=\"text-align: right;\">\n",
              "      <th></th>\n",
              "      <th>gender</th>\n",
              "      <th>age</th>\n",
              "      <th>hypertension</th>\n",
              "      <th>heart_disease</th>\n",
              "      <th>ever_married</th>\n",
              "      <th>work_type</th>\n",
              "      <th>Residence_type</th>\n",
              "      <th>avg_glucose_level</th>\n",
              "      <th>bmi</th>\n",
              "      <th>smoking_status</th>\n",
              "      <th>stroke</th>\n",
              "    </tr>\n",
              "  </thead>\n",
              "  <tbody>\n",
              "  </tbody>\n",
              "</table>\n",
              "</div>"
            ],
            "text/plain": [
              "Empty DataFrame\n",
              "Columns: [gender, age, hypertension, heart_disease, ever_married, work_type, Residence_type, avg_glucose_level, bmi, smoking_status, stroke]\n",
              "Index: []"
            ]
          },
          "metadata": {
            "tags": []
          },
          "execution_count": 59
        }
      ]
    },
    {
      "cell_type": "code",
      "metadata": {
        "id": "SJGrHxiGSJNX"
      },
      "source": [
        "#Checking for mixed type data\n",
        "for col in df_stroke_clean.columns.tolist():\n",
        "  weird = (df_stroke_clean[[col]].applymap(type) != df_stroke_clean[[col]].iloc[0].apply(type)).any(axis = 1)\n",
        "  if len (df_stroke_clean[weird]) > 0:\n",
        "    print (col)"
      ],
      "execution_count": 52,
      "outputs": []
    },
    {
      "cell_type": "markdown",
      "metadata": {
        "id": "4QQm7jrWVDXs"
      },
      "source": [
        "No mixed type data in the clean stroke dataset"
      ]
    },
    {
      "cell_type": "code",
      "metadata": {
        "id": "B_ZUtxOVVJ1x"
      },
      "source": [
        "#Exporting cleaned stroke data\n",
        "df_stroke_clean.to_csv('clean_stroke_Data.csv')"
      ],
      "execution_count": 28,
      "outputs": []
    },
    {
      "cell_type": "code",
      "metadata": {
        "id": "i6gyfY33VZ3j"
      },
      "source": [
        "#Cleaning insurance data set"
      ],
      "execution_count": 29,
      "outputs": []
    },
    {
      "cell_type": "code",
      "metadata": {
        "colab": {
          "base_uri": "https://localhost:8080/"
        },
        "id": "dJy2bjy3V4ZN",
        "outputId": "bb22f1e1-12cc-4e77-b381-a32123d46dd5"
      },
      "source": [
        "df_insurance.isnull().sum()"
      ],
      "execution_count": 30,
      "outputs": [
        {
          "output_type": "execute_result",
          "data": {
            "text/plain": [
              "State                                           0\n",
              "Uninsured Rate (2010)                           0\n",
              "Uninsured Rate (2015)                           0\n",
              "Uninsured Rate Change (2010-2015)               0\n",
              "Health Insurance Coverage Change (2010-2015)    0\n",
              "Employer Health Insurance Coverage (2015)       0\n",
              "Marketplace Health Insurance Coverage (2016)    0\n",
              "Marketplace Tax Credits (2016)                  0\n",
              "Average Monthly Tax Credit (2016)               0\n",
              "State Medicaid Expansion (2016)                 1\n",
              "Medicaid Enrollment (2013)                      2\n",
              "Medicaid Enrollment (2016)                      0\n",
              "Medicaid Enrollment Change (2013-2016)          2\n",
              "Medicare Enrollment (2016)                      0\n",
              "dtype: int64"
            ]
          },
          "metadata": {
            "tags": []
          },
          "execution_count": 30
        }
      ]
    },
    {
      "cell_type": "code",
      "metadata": {
        "colab": {
          "base_uri": "https://localhost:8080/",
          "height": 289
        },
        "id": "CmhBA6AZV7Oy",
        "outputId": "2c3229b2-cbce-4f69-a157-415b8639cf60"
      },
      "source": [
        "df_insurance.head()"
      ],
      "execution_count": 31,
      "outputs": [
        {
          "output_type": "execute_result",
          "data": {
            "text/html": [
              "<div>\n",
              "<style scoped>\n",
              "    .dataframe tbody tr th:only-of-type {\n",
              "        vertical-align: middle;\n",
              "    }\n",
              "\n",
              "    .dataframe tbody tr th {\n",
              "        vertical-align: top;\n",
              "    }\n",
              "\n",
              "    .dataframe thead th {\n",
              "        text-align: right;\n",
              "    }\n",
              "</style>\n",
              "<table border=\"1\" class=\"dataframe\">\n",
              "  <thead>\n",
              "    <tr style=\"text-align: right;\">\n",
              "      <th></th>\n",
              "      <th>State</th>\n",
              "      <th>Uninsured Rate (2010)</th>\n",
              "      <th>Uninsured Rate (2015)</th>\n",
              "      <th>Uninsured Rate Change (2010-2015)</th>\n",
              "      <th>Health Insurance Coverage Change (2010-2015)</th>\n",
              "      <th>Employer Health Insurance Coverage (2015)</th>\n",
              "      <th>Marketplace Health Insurance Coverage (2016)</th>\n",
              "      <th>Marketplace Tax Credits (2016)</th>\n",
              "      <th>Average Monthly Tax Credit (2016)</th>\n",
              "      <th>State Medicaid Expansion (2016)</th>\n",
              "      <th>Medicaid Enrollment (2013)</th>\n",
              "      <th>Medicaid Enrollment (2016)</th>\n",
              "      <th>Medicaid Enrollment Change (2013-2016)</th>\n",
              "      <th>Medicare Enrollment (2016)</th>\n",
              "    </tr>\n",
              "  </thead>\n",
              "  <tbody>\n",
              "    <tr>\n",
              "      <th>0</th>\n",
              "      <td>Alabama</td>\n",
              "      <td>14.6%</td>\n",
              "      <td>10.1%</td>\n",
              "      <td>-4.5%</td>\n",
              "      <td>215000</td>\n",
              "      <td>2545000</td>\n",
              "      <td>165534</td>\n",
              "      <td>152206</td>\n",
              "      <td>$310</td>\n",
              "      <td>False</td>\n",
              "      <td>799176.0</td>\n",
              "      <td>910775</td>\n",
              "      <td>111599.0</td>\n",
              "      <td>989855</td>\n",
              "    </tr>\n",
              "    <tr>\n",
              "      <th>1</th>\n",
              "      <td>Alaska</td>\n",
              "      <td>19.9%</td>\n",
              "      <td>14.9%</td>\n",
              "      <td>-5%</td>\n",
              "      <td>36000</td>\n",
              "      <td>390000</td>\n",
              "      <td>17995</td>\n",
              "      <td>16205</td>\n",
              "      <td>$750</td>\n",
              "      <td>True</td>\n",
              "      <td>122334.0</td>\n",
              "      <td>166625</td>\n",
              "      <td>44291.0</td>\n",
              "      <td>88966</td>\n",
              "    </tr>\n",
              "    <tr>\n",
              "      <th>2</th>\n",
              "      <td>Arizona</td>\n",
              "      <td>16.9%</td>\n",
              "      <td>10.8%</td>\n",
              "      <td>-6.1%</td>\n",
              "      <td>410000</td>\n",
              "      <td>3288000</td>\n",
              "      <td>179445</td>\n",
              "      <td>124346</td>\n",
              "      <td>$230</td>\n",
              "      <td>True</td>\n",
              "      <td>1201770.0</td>\n",
              "      <td>1716198</td>\n",
              "      <td>514428.0</td>\n",
              "      <td>1175624</td>\n",
              "    </tr>\n",
              "    <tr>\n",
              "      <th>3</th>\n",
              "      <td>Arkansas</td>\n",
              "      <td>17.5%</td>\n",
              "      <td>9.5%</td>\n",
              "      <td>-8%</td>\n",
              "      <td>234000</td>\n",
              "      <td>1365000</td>\n",
              "      <td>63357</td>\n",
              "      <td>56843</td>\n",
              "      <td>$306</td>\n",
              "      <td>True</td>\n",
              "      <td>556851.0</td>\n",
              "      <td>920194</td>\n",
              "      <td>363343.0</td>\n",
              "      <td>606146</td>\n",
              "    </tr>\n",
              "    <tr>\n",
              "      <th>4</th>\n",
              "      <td>California</td>\n",
              "      <td>18.5%</td>\n",
              "      <td>8.6%</td>\n",
              "      <td>-9.9%</td>\n",
              "      <td>3826000</td>\n",
              "      <td>19552000</td>\n",
              "      <td>1415428</td>\n",
              "      <td>1239893</td>\n",
              "      <td>$309</td>\n",
              "      <td>True</td>\n",
              "      <td>7755381.0</td>\n",
              "      <td>11843081</td>\n",
              "      <td>4087700.0</td>\n",
              "      <td>5829777</td>\n",
              "    </tr>\n",
              "  </tbody>\n",
              "</table>\n",
              "</div>"
            ],
            "text/plain": [
              "        State  ... Medicare Enrollment (2016)\n",
              "0    Alabama   ...                     989855\n",
              "1     Alaska   ...                      88966\n",
              "2    Arizona   ...                    1175624\n",
              "3   Arkansas   ...                     606146\n",
              "4  California  ...                    5829777\n",
              "\n",
              "[5 rows x 14 columns]"
            ]
          },
          "metadata": {
            "tags": []
          },
          "execution_count": 31
        }
      ]
    },
    {
      "cell_type": "code",
      "metadata": {
        "colab": {
          "base_uri": "https://localhost:8080/"
        },
        "id": "0j6kJVu3XJks",
        "outputId": "e05fbb56-2acb-4251-dc24-2e0fda0070e2"
      },
      "source": [
        "df_insurance.info()"
      ],
      "execution_count": 38,
      "outputs": [
        {
          "output_type": "stream",
          "text": [
            "<class 'pandas.core.frame.DataFrame'>\n",
            "RangeIndex: 52 entries, 0 to 51\n",
            "Data columns (total 14 columns):\n",
            " #   Column                                        Non-Null Count  Dtype  \n",
            "---  ------                                        --------------  -----  \n",
            " 0   State                                         52 non-null     object \n",
            " 1   Uninsured Rate (2010)                         52 non-null     object \n",
            " 2   Uninsured Rate (2015)                         52 non-null     object \n",
            " 3   Uninsured Rate Change (2010-2015)             52 non-null     object \n",
            " 4   Health Insurance Coverage Change (2010-2015)  52 non-null     int64  \n",
            " 5   Employer Health Insurance Coverage (2015)     52 non-null     int64  \n",
            " 6   Marketplace Health Insurance Coverage (2016)  52 non-null     int64  \n",
            " 7   Marketplace Tax Credits (2016)                52 non-null     int64  \n",
            " 8   Average Monthly Tax Credit (2016)             52 non-null     object \n",
            " 9   State Medicaid Expansion (2016)               51 non-null     object \n",
            " 10  Medicaid Enrollment (2013)                    50 non-null     float64\n",
            " 11  Medicaid Enrollment (2016)                    52 non-null     int64  \n",
            " 12  Medicaid Enrollment Change (2013-2016)        50 non-null     float64\n",
            " 13  Medicare Enrollment (2016)                    52 non-null     int64  \n",
            "dtypes: float64(2), int64(6), object(6)\n",
            "memory usage: 5.8+ KB\n"
          ],
          "name": "stdout"
        }
      ]
    },
    {
      "cell_type": "code",
      "metadata": {
        "id": "bbiztWV5WIki"
      },
      "source": [
        "#Creating a subset without missing values\n",
        "df_insurance2 = df_insurance.dropna()"
      ],
      "execution_count": 64,
      "outputs": []
    },
    {
      "cell_type": "code",
      "metadata": {
        "colab": {
          "base_uri": "https://localhost:8080/"
        },
        "id": "K8WB8v7zYUDi",
        "outputId": "8f58436f-6755-42b4-e566-046e96d74de6"
      },
      "source": [
        "df_insurance2.isnull().sum()"
      ],
      "execution_count": 65,
      "outputs": [
        {
          "output_type": "execute_result",
          "data": {
            "text/plain": [
              "State                                           0\n",
              "Uninsured Rate (2010)                           0\n",
              "Uninsured Rate (2015)                           0\n",
              "Uninsured Rate Change (2010-2015)               0\n",
              "Health Insurance Coverage Change (2010-2015)    0\n",
              "Employer Health Insurance Coverage (2015)       0\n",
              "Marketplace Health Insurance Coverage (2016)    0\n",
              "Marketplace Tax Credits (2016)                  0\n",
              "Average Monthly Tax Credit (2016)               0\n",
              "State Medicaid Expansion (2016)                 0\n",
              "Medicaid Enrollment (2013)                      0\n",
              "Medicaid Enrollment (2016)                      0\n",
              "Medicaid Enrollment Change (2013-2016)          0\n",
              "Medicare Enrollment (2016)                      0\n",
              "dtype: int64"
            ]
          },
          "metadata": {
            "tags": []
          },
          "execution_count": 65
        }
      ]
    },
    {
      "cell_type": "code",
      "metadata": {
        "colab": {
          "base_uri": "https://localhost:8080/",
          "height": 289
        },
        "id": "0yEU-0tKYWl-",
        "outputId": "55a986f4-2026-4ff1-82d4-e9e7b5ad42e4"
      },
      "source": [
        "df_insurance2.head()"
      ],
      "execution_count": 66,
      "outputs": [
        {
          "output_type": "execute_result",
          "data": {
            "text/html": [
              "<div>\n",
              "<style scoped>\n",
              "    .dataframe tbody tr th:only-of-type {\n",
              "        vertical-align: middle;\n",
              "    }\n",
              "\n",
              "    .dataframe tbody tr th {\n",
              "        vertical-align: top;\n",
              "    }\n",
              "\n",
              "    .dataframe thead th {\n",
              "        text-align: right;\n",
              "    }\n",
              "</style>\n",
              "<table border=\"1\" class=\"dataframe\">\n",
              "  <thead>\n",
              "    <tr style=\"text-align: right;\">\n",
              "      <th></th>\n",
              "      <th>State</th>\n",
              "      <th>Uninsured Rate (2010)</th>\n",
              "      <th>Uninsured Rate (2015)</th>\n",
              "      <th>Uninsured Rate Change (2010-2015)</th>\n",
              "      <th>Health Insurance Coverage Change (2010-2015)</th>\n",
              "      <th>Employer Health Insurance Coverage (2015)</th>\n",
              "      <th>Marketplace Health Insurance Coverage (2016)</th>\n",
              "      <th>Marketplace Tax Credits (2016)</th>\n",
              "      <th>Average Monthly Tax Credit (2016)</th>\n",
              "      <th>State Medicaid Expansion (2016)</th>\n",
              "      <th>Medicaid Enrollment (2013)</th>\n",
              "      <th>Medicaid Enrollment (2016)</th>\n",
              "      <th>Medicaid Enrollment Change (2013-2016)</th>\n",
              "      <th>Medicare Enrollment (2016)</th>\n",
              "    </tr>\n",
              "  </thead>\n",
              "  <tbody>\n",
              "    <tr>\n",
              "      <th>0</th>\n",
              "      <td>Alabama</td>\n",
              "      <td>14.6%</td>\n",
              "      <td>10.1%</td>\n",
              "      <td>-4.5%</td>\n",
              "      <td>215000</td>\n",
              "      <td>2545000</td>\n",
              "      <td>165534</td>\n",
              "      <td>152206</td>\n",
              "      <td>$310</td>\n",
              "      <td>False</td>\n",
              "      <td>799176.0</td>\n",
              "      <td>910775</td>\n",
              "      <td>111599.0</td>\n",
              "      <td>989855</td>\n",
              "    </tr>\n",
              "    <tr>\n",
              "      <th>1</th>\n",
              "      <td>Alaska</td>\n",
              "      <td>19.9%</td>\n",
              "      <td>14.9%</td>\n",
              "      <td>-5%</td>\n",
              "      <td>36000</td>\n",
              "      <td>390000</td>\n",
              "      <td>17995</td>\n",
              "      <td>16205</td>\n",
              "      <td>$750</td>\n",
              "      <td>True</td>\n",
              "      <td>122334.0</td>\n",
              "      <td>166625</td>\n",
              "      <td>44291.0</td>\n",
              "      <td>88966</td>\n",
              "    </tr>\n",
              "    <tr>\n",
              "      <th>2</th>\n",
              "      <td>Arizona</td>\n",
              "      <td>16.9%</td>\n",
              "      <td>10.8%</td>\n",
              "      <td>-6.1%</td>\n",
              "      <td>410000</td>\n",
              "      <td>3288000</td>\n",
              "      <td>179445</td>\n",
              "      <td>124346</td>\n",
              "      <td>$230</td>\n",
              "      <td>True</td>\n",
              "      <td>1201770.0</td>\n",
              "      <td>1716198</td>\n",
              "      <td>514428.0</td>\n",
              "      <td>1175624</td>\n",
              "    </tr>\n",
              "    <tr>\n",
              "      <th>3</th>\n",
              "      <td>Arkansas</td>\n",
              "      <td>17.5%</td>\n",
              "      <td>9.5%</td>\n",
              "      <td>-8%</td>\n",
              "      <td>234000</td>\n",
              "      <td>1365000</td>\n",
              "      <td>63357</td>\n",
              "      <td>56843</td>\n",
              "      <td>$306</td>\n",
              "      <td>True</td>\n",
              "      <td>556851.0</td>\n",
              "      <td>920194</td>\n",
              "      <td>363343.0</td>\n",
              "      <td>606146</td>\n",
              "    </tr>\n",
              "    <tr>\n",
              "      <th>4</th>\n",
              "      <td>California</td>\n",
              "      <td>18.5%</td>\n",
              "      <td>8.6%</td>\n",
              "      <td>-9.9%</td>\n",
              "      <td>3826000</td>\n",
              "      <td>19552000</td>\n",
              "      <td>1415428</td>\n",
              "      <td>1239893</td>\n",
              "      <td>$309</td>\n",
              "      <td>True</td>\n",
              "      <td>7755381.0</td>\n",
              "      <td>11843081</td>\n",
              "      <td>4087700.0</td>\n",
              "      <td>5829777</td>\n",
              "    </tr>\n",
              "  </tbody>\n",
              "</table>\n",
              "</div>"
            ],
            "text/plain": [
              "        State  ... Medicare Enrollment (2016)\n",
              "0    Alabama   ...                     989855\n",
              "1     Alaska   ...                      88966\n",
              "2    Arizona   ...                    1175624\n",
              "3   Arkansas   ...                     606146\n",
              "4  California  ...                    5829777\n",
              "\n",
              "[5 rows x 14 columns]"
            ]
          },
          "metadata": {
            "tags": []
          },
          "execution_count": 66
        }
      ]
    },
    {
      "cell_type": "code",
      "metadata": {
        "id": "PCidLt_tZGPf"
      },
      "source": [
        "df_dups2 = df_insurance2[df_insurance2.duplicated()]"
      ],
      "execution_count": 67,
      "outputs": []
    },
    {
      "cell_type": "code",
      "metadata": {
        "colab": {
          "base_uri": "https://localhost:8080/",
          "height": 134
        },
        "id": "ltQlxWJoZYgr",
        "outputId": "0dcb2d7a-3b03-45c9-a96c-fa1e038cb200"
      },
      "source": [
        "df_dups2"
      ],
      "execution_count": 68,
      "outputs": [
        {
          "output_type": "execute_result",
          "data": {
            "text/html": [
              "<div>\n",
              "<style scoped>\n",
              "    .dataframe tbody tr th:only-of-type {\n",
              "        vertical-align: middle;\n",
              "    }\n",
              "\n",
              "    .dataframe tbody tr th {\n",
              "        vertical-align: top;\n",
              "    }\n",
              "\n",
              "    .dataframe thead th {\n",
              "        text-align: right;\n",
              "    }\n",
              "</style>\n",
              "<table border=\"1\" class=\"dataframe\">\n",
              "  <thead>\n",
              "    <tr style=\"text-align: right;\">\n",
              "      <th></th>\n",
              "      <th>State</th>\n",
              "      <th>Uninsured Rate (2010)</th>\n",
              "      <th>Uninsured Rate (2015)</th>\n",
              "      <th>Uninsured Rate Change (2010-2015)</th>\n",
              "      <th>Health Insurance Coverage Change (2010-2015)</th>\n",
              "      <th>Employer Health Insurance Coverage (2015)</th>\n",
              "      <th>Marketplace Health Insurance Coverage (2016)</th>\n",
              "      <th>Marketplace Tax Credits (2016)</th>\n",
              "      <th>Average Monthly Tax Credit (2016)</th>\n",
              "      <th>State Medicaid Expansion (2016)</th>\n",
              "      <th>Medicaid Enrollment (2013)</th>\n",
              "      <th>Medicaid Enrollment (2016)</th>\n",
              "      <th>Medicaid Enrollment Change (2013-2016)</th>\n",
              "      <th>Medicare Enrollment (2016)</th>\n",
              "    </tr>\n",
              "  </thead>\n",
              "  <tbody>\n",
              "  </tbody>\n",
              "</table>\n",
              "</div>"
            ],
            "text/plain": [
              "Empty DataFrame\n",
              "Columns: [State, Uninsured Rate (2010), Uninsured Rate (2015), Uninsured Rate Change (2010-2015), Health Insurance Coverage Change (2010-2015), Employer Health Insurance Coverage (2015), Marketplace Health Insurance Coverage (2016), Marketplace Tax Credits (2016), Average Monthly Tax Credit (2016), State Medicaid Expansion (2016), Medicaid Enrollment (2013), Medicaid Enrollment (2016), Medicaid Enrollment Change (2013-2016), Medicare Enrollment (2016)]\n",
              "Index: []"
            ]
          },
          "metadata": {
            "tags": []
          },
          "execution_count": 68
        }
      ]
    },
    {
      "cell_type": "markdown",
      "metadata": {
        "id": "J2afReu4ZbKQ"
      },
      "source": [
        "No duplicate data in the insurance dataset"
      ]
    },
    {
      "cell_type": "code",
      "metadata": {
        "id": "K5uf54KpZdgH"
      },
      "source": [
        "#Checking for mixed type data\n",
        "for col in df_insurance2.columns.tolist():\n",
        "  weird = (df_insurance2[[col]].applymap(type) != df_insurance2[[col]].iloc[0].apply(type)).any(axis = 1)\n",
        "  if len (df_insurance2[weird]) > 0:\n",
        "    print (col)"
      ],
      "execution_count": 69,
      "outputs": []
    },
    {
      "cell_type": "markdown",
      "metadata": {
        "id": "PQQ4g7ZKZtV9"
      },
      "source": [
        "No mixed type data"
      ]
    },
    {
      "cell_type": "code",
      "metadata": {
        "id": "cchQhVWGZrt7"
      },
      "source": [
        "#Exporting cleaned data set\n",
        "df_insurance2.to_csv('insurance_clean.csv')"
      ],
      "execution_count": 70,
      "outputs": []
    },
    {
      "cell_type": "code",
      "metadata": {
        "id": "zdRjW1EiZ261"
      },
      "source": [
        ""
      ],
      "execution_count": null,
      "outputs": []
    }
  ]
}